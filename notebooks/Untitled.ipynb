{
 "cells": [
  {
   "cell_type": "code",
   "execution_count": 1,
   "id": "cabf863e",
   "metadata": {},
   "outputs": [],
   "source": [
    "a = \"this\""
   ]
  },
  {
   "cell_type": "code",
   "execution_count": 4,
   "id": "8e3936e7",
   "metadata": {},
   "outputs": [],
   "source": [
    "a1 = \"This\"\n",
    "a2 = \"that\""
   ]
  },
  {
   "cell_type": "code",
   "execution_count": 5,
   "id": "f1910e83",
   "metadata": {},
   "outputs": [
    {
     "name": "stdout",
     "output_type": "stream",
     "text": [
      "This and that.\n"
     ]
    }
   ],
   "source": [
    "print(f\"{a1} and {a2}.\")"
   ]
  },
  {
   "cell_type": "code",
   "execution_count": null,
   "id": "7846ab50",
   "metadata": {},
   "outputs": [],
   "source": []
  }
 ],
 "metadata": {
  "kernelspec": {
   "display_name": "Python 3 (ipykernel)",
   "language": "python",
   "name": "python3"
  },
  "language_info": {
   "codemirror_mode": {
    "name": "ipython",
    "version": 3
   },
   "file_extension": ".py",
   "mimetype": "text/x-python",
   "name": "python",
   "nbconvert_exporter": "python",
   "pygments_lexer": "ipython3",
   "version": "3.10.8"
  }
 },
 "nbformat": 4,
 "nbformat_minor": 5
}
