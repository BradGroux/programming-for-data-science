{
 "cells": [
  {
   "cell_type": "markdown",
   "metadata": {
    "id": "FCZMszSbmN_H"
   },
   "source": [
    "## Python's limitations for math\n",
    "\n",
    "As you learned previously, Python can perform simple math operations and offers built-in functions to help you perform calculations. That said, Python does reach a limit where you must either write your own custom functions or import a library. For example, the `sqrt()` function is not available in the base installation of Python, but you can import the `NumPy` or `Math` libraries when needed. Let that soak in. If you run into limitations in Python, chances are there's a library for that! :) \n",
    "\n",
    "## Square roots\n",
    "You can simply use the `**` operator to square a number without importing any package."
   ]
  },
  {
   "cell_type": "code",
   "execution_count": null,
   "metadata": {
    "colab": {
     "base_uri": "https://localhost:8080/"
    },
    "executionInfo": {
     "elapsed": 2,
     "status": "ok",
     "timestamp": 1640302456682,
     "user": {
      "displayName": "Jonathan Barrios",
      "photoUrl": "https://lh3.googleusercontent.com/a-/AOh14Gj_KFXU5phanoATkzhhR3Yb2zDYFB4nnTYMF3cP=s64",
      "userId": "16097537147383230085"
     },
     "user_tz": 360
    },
    "id": "z3i7RmslmNlb",
    "outputId": "530f6105-207e-4f56-8060-0c07b96b9c51"
   },
   "outputs": [],
   "source": [
    "# square a number using the exponent operator\n"
   ]
  },
  {
   "cell_type": "code",
   "execution_count": null,
   "metadata": {
    "colab": {
     "base_uri": "https://localhost:8080/"
    },
    "executionInfo": {
     "elapsed": 219,
     "status": "ok",
     "timestamp": 1641400484709,
     "user": {
      "displayName": "Jonathan Barrios",
      "photoUrl": "https://lh3.googleusercontent.com/a-/AOh14Gj_KFXU5phanoATkzhhR3Yb2zDYFB4nnTYMF3cP=s64",
      "userId": "16097537147383230085"
     },
     "user_tz": 360
    },
    "id": "3xzsNGVNnlwl",
    "outputId": "c176d0f7-72ac-4c76-d16a-33c57f84c3c1"
   },
   "outputs": [],
   "source": [
    "# guess the function sqrt()\n",
    "\n",
    "# import numpy as np (np is the common abreviation of numpy)\n",
    "\n",
    "\n",
    "# check your work using the square root function\n"
   ]
  },
  {
   "cell_type": "code",
   "execution_count": null,
   "metadata": {
    "colab": {
     "base_uri": "https://localhost:8080/"
    },
    "executionInfo": {
     "elapsed": 249,
     "status": "ok",
     "timestamp": 1641400424316,
     "user": {
      "displayName": "Jonathan Barrios",
      "photoUrl": "https://lh3.googleusercontent.com/a-/AOh14Gj_KFXU5phanoATkzhhR3Yb2zDYFB4nnTYMF3cP=s64",
      "userId": "16097537147383230085"
     },
     "user_tz": 360
    },
    "id": "mbpreYIDU9UU",
    "outputId": "df5fe2df-a8eb-4e32-cbae-83c79b1773bd"
   },
   "outputs": [],
   "source": []
  },
  {
   "cell_type": "markdown",
   "metadata": {
    "id": "7BUxFA2up3W_"
   },
   "source": [
    "## Average or Mean\n",
    "Python doesn't have a built-in"
   ]
  },
  {
   "cell_type": "code",
   "execution_count": null,
   "metadata": {
    "id": "q73Q2TGXp2__"
   },
   "outputs": [],
   "source": [
    "# a list of random numbers\n",
    "random_numbers = [2,54,3,223,6,90]\n",
    "\n",
    "# guess the name of a built-in average(mean) function 🤔\n",
    "# mean(random_numbers)\n",
    "# average(random_numbers)"
   ]
  },
  {
   "cell_type": "code",
   "execution_count": null,
   "metadata": {
    "colab": {
     "base_uri": "https://localhost:8080/"
    },
    "executionInfo": {
     "elapsed": 207,
     "status": "ok",
     "timestamp": 1641400488038,
     "user": {
      "displayName": "Jonathan Barrios",
      "photoUrl": "https://lh3.googleusercontent.com/a-/AOh14Gj_KFXU5phanoATkzhhR3Yb2zDYFB4nnTYMF3cP=s64",
      "userId": "16097537147383230085"
     },
     "user_tz": 360
    },
    "id": "Px5HdGowqgLo",
    "outputId": "6f3c1de2-b073-40e7-878f-feedc59388b4"
   },
   "outputs": [],
   "source": [
    "# a list of random numbers\n",
    "random_numbers = [2,54,3,223,6,90]\n",
    "\n",
    "# using NumPy\n",
    "np.average(random_numbers)"
   ]
  }
 ],
 "metadata": {
  "colab": {
   "authorship_tag": "ABX9TyPxaJSQm0MuWkI6dZhS4rZ7",
   "provenance": []
  },
  "kernelspec": {
   "display_name": "Python 3 (ipykernel)",
   "language": "python",
   "name": "python3"
  },
  "language_info": {
   "codemirror_mode": {
    "name": "ipython",
    "version": 3
   },
   "file_extension": ".py",
   "mimetype": "text/x-python",
   "name": "python",
   "nbconvert_exporter": "python",
   "pygments_lexer": "ipython3",
   "version": "3.10.8"
  }
 },
 "nbformat": 4,
 "nbformat_minor": 1
}
