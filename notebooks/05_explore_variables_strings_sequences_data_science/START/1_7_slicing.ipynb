{
 "cells": [
  {
   "attachments": {},
   "cell_type": "markdown",
   "metadata": {
    "id": "eb_4FfFuwwJY"
   },
   "source": [
    "# Slicing strings\n",
    "\n",
    "You can also slice strings, or return a range of characters, using the bracket notation we used when indexing strings.\n",
    "\n"
   ]
  },
  {
   "cell_type": "code",
   "execution_count": 4,
   "metadata": {
    "id": "1Cm1_hdtwskU"
   },
   "outputs": [
    {
     "data": {
      "text/plain": [
       "'B'"
      ]
     },
     "execution_count": 4,
     "metadata": {},
     "output_type": "execute_result"
    }
   ],
   "source": [
    "# indexing a string's first element\n",
    "\"Brad\"[0]"
   ]
  },
  {
   "cell_type": "code",
   "execution_count": 9,
   "metadata": {},
   "outputs": [
    {
     "data": {
      "text/plain": [
       "'B'"
      ]
     },
     "execution_count": 9,
     "metadata": {},
     "output_type": "execute_result"
    }
   ],
   "source": [
    "# slicing a string's first' element\n",
    "\"Brad\"[0:1]"
   ]
  },
  {
   "cell_type": "code",
   "execution_count": 11,
   "metadata": {
    "id": "GiNZRkAP2qmR"
   },
   "outputs": [
    {
     "data": {
      "text/plain": [
       "'Br'"
      ]
     },
     "execution_count": 11,
     "metadata": {},
     "output_type": "execute_result"
    }
   ],
   "source": [
    "# slicing a string from the begining to the second element\n",
    "\"Brad\"[0:2]"
   ]
  },
  {
   "cell_type": "code",
   "execution_count": 12,
   "metadata": {
    "id": "ai0BAU2Y2sW0"
   },
   "outputs": [
    {
     "data": {
      "text/plain": [
       "'Bra'"
      ]
     },
     "execution_count": 12,
     "metadata": {},
     "output_type": "execute_result"
    }
   ],
   "source": [
    "# slicing a string from the begining to the end\n",
    "\"Brad\"[0:3]"
   ]
  },
  {
   "attachments": {},
   "cell_type": "markdown",
   "metadata": {
    "id": "09r5plws2THb"
   },
   "source": [
    "# Slicing variables\n",
    "You can also slice varibles if they are assigned to strings. There is no difference."
   ]
  },
  {
   "cell_type": "code",
   "execution_count": 14,
   "metadata": {
    "id": "Lrnt9aqY2TYr"
   },
   "outputs": [
    {
     "data": {
      "text/plain": [
       "'r'"
      ]
     },
     "execution_count": 14,
     "metadata": {},
     "output_type": "execute_result"
    }
   ],
   "source": [
    "# store \"Jonathan\" inside variable: name\n",
    "name = \"Brad\"\n",
    "\n",
    "# access the first element of: name\n",
    "name[1]"
   ]
  },
  {
   "attachments": {},
   "cell_type": "markdown",
   "metadata": {
    "id": "IHcH2dbPiw7I"
   },
   "source": [
    "## Negative slicing visualization:\n",
    "J | O | N | A | T | H | A | N \n",
    "--- | --- | --- | --- | --- | --- | --- | --- \n",
    "-8 | -7 | -6 | -5 | -4 | -3 | -2 | -1 "
   ]
  },
  {
   "cell_type": "code",
   "execution_count": 15,
   "metadata": {
    "id": "9OHKCn03hOzd"
   },
   "outputs": [
    {
     "data": {
      "text/plain": [
       "'ad'"
      ]
     },
     "execution_count": 15,
     "metadata": {},
     "output_type": "execute_result"
    }
   ],
   "source": [
    "# sclice using negative indices\n",
    "name[-2:]"
   ]
  },
  {
   "cell_type": "code",
   "execution_count": 16,
   "metadata": {
    "id": "Zm2Psg3Jiomg"
   },
   "outputs": [
    {
     "data": {
      "text/plain": [
       "'Bra'"
      ]
     },
     "execution_count": 16,
     "metadata": {},
     "output_type": "execute_result"
    }
   ],
   "source": [
    "# sclice using negative indices\n",
    "name[:-1]"
   ]
  },
  {
   "cell_type": "code",
   "execution_count": 18,
   "metadata": {},
   "outputs": [
    {
     "data": {
      "text/plain": [
       "'darB'"
      ]
     },
     "execution_count": 18,
     "metadata": {},
     "output_type": "execute_result"
    }
   ],
   "source": [
    "\"Brad\"[::-1]"
   ]
  },
  {
   "cell_type": "code",
   "execution_count": null,
   "metadata": {},
   "outputs": [],
   "source": []
  }
 ],
 "metadata": {
  "colab": {
   "authorship_tag": "ABX9TyPdSyyn8m133687aXMZOA8b",
   "provenance": []
  },
  "kernelspec": {
   "display_name": "Python 3 (ipykernel)",
   "language": "python",
   "name": "python3"
  },
  "language_info": {
   "codemirror_mode": {
    "name": "ipython",
    "version": 3
   },
   "file_extension": ".py",
   "mimetype": "text/x-python",
   "name": "python",
   "nbconvert_exporter": "python",
   "pygments_lexer": "ipython3",
   "version": "3.11.4"
  }
 },
 "nbformat": 4,
 "nbformat_minor": 1
}
