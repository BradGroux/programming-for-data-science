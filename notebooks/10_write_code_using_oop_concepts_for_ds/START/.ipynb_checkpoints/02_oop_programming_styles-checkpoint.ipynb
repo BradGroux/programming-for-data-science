{
 "cells": [
  {
   "cell_type": "markdown",
   "metadata": {
    "id": "r4h2sPaLbujI"
   },
   "source": [
    "# Import and Load Data"
   ]
  },
  {
   "cell_type": "code",
   "execution_count": 10,
   "metadata": {
    "executionInfo": {
     "elapsed": 134,
     "status": "ok",
     "timestamp": 1670944874748,
     "user": {
      "displayName": "Jonathan Barrios",
      "userId": "16097537147383230085"
     },
     "user_tz": 360
    },
    "id": "y_HIFmTbM4Nx"
   },
   "outputs": [],
   "source": [
    "import pandas as pd\n",
    "import matplotlib.pyplot as plt\n",
    "import seaborn as sns"
   ]
  },
  {
   "cell_type": "code",
   "execution_count": null,
   "metadata": {
    "executionInfo": {
     "elapsed": 100,
     "status": "ok",
     "timestamp": 1670944910386,
     "user": {
      "displayName": "Jonathan Barrios",
      "userId": "16097537147383230085"
     },
     "user_tz": 360
    },
    "id": "70FwUPdpNV70"
   },
   "outputs": [],
   "source": [
    "# raw dataset\n",
    "# 'https://raw.githubusercontent.com/jonathan-data-analysis/colab_test_data/main/athletes.csv'\n",
    "\n",
    "# convert into pandas dataframe\n"
   ]
  },
  {
   "cell_type": "markdown",
   "metadata": {},
   "source": [
    "In short, **Procedural programming** is a top down, line-by-line approach to programming relying on prodcedures are routines.\n",
    "\n",
    "\n",
    "Functional programming (FP) is a programming paradigm — a style of building the structure and elements of computer programs — that treats computation as the evaluation of mathematical functions and avoids changing-state and mutable data.” — Wikipedia\n",
    "“ Object-oriented programming (OOP) is a programming paradigm based on the concept of “objects”, which may contain data, in the form of fields, often known as attributes; and code, in the form of procedures, often known as methods.” — Wikipedia"
   ]
  },
  {
   "cell_type": "markdown",
   "metadata": {
    "id": "9u-GMK8xBSB0"
   },
   "source": [
    "# Functions vs. Methods\n",
    "So what's the difference, really? If you create and run the preview() function below, you'll get the same result as typing: `df.head()`"
   ]
  },
  {
   "cell_type": "code",
   "execution_count": 15,
   "metadata": {
    "executionInfo": {
     "elapsed": 316,
     "status": "ok",
     "timestamp": 1670944924731,
     "user": {
      "displayName": "Jonathan Barrios",
      "userId": "16097537147383230085"
     },
     "user_tz": 360
    },
    "id": "Z0mndW3QEG0O"
   },
   "outputs": [],
   "source": [
    "# this is a function that return the first five rows\n"
   ]
  },
  {
   "cell_type": "code",
   "execution_count": null,
   "metadata": {
    "colab": {
     "base_uri": "https://localhost:8080/"
    },
    "executionInfo": {
     "elapsed": 102,
     "status": "ok",
     "timestamp": 1670944925436,
     "user": {
      "displayName": "Jonathan Barrios",
      "userId": "16097537147383230085"
     },
     "user_tz": 360
    },
    "id": "gxHSoVjVDR_L",
    "outputId": "4ffb0dc0-2f73-4ce6-f853-65d732c6e102"
   },
   "outputs": [],
   "source": []
  },
  {
   "cell_type": "code",
   "execution_count": 20,
   "metadata": {
    "executionInfo": {
     "elapsed": 99,
     "status": "ok",
     "timestamp": 1670945433207,
     "user": {
      "displayName": "Jonathan Barrios",
      "userId": "16097537147383230085"
     },
     "user_tz": 360
    },
    "id": "ikRjIDlyG440"
   },
   "outputs": [],
   "source": [
    "# this is a function that return the first n rows\n"
   ]
  },
  {
   "cell_type": "code",
   "execution_count": null,
   "metadata": {
    "colab": {
     "base_uri": "https://localhost:8080/"
    },
    "executionInfo": {
     "elapsed": 562,
     "status": "ok",
     "timestamp": 1670945456531,
     "user": {
      "displayName": "Jonathan Barrios",
      "userId": "16097537147383230085"
     },
     "user_tz": 360
    },
    "id": "xcZA91RNHCIZ",
    "outputId": "f9a933e2-b5d0-4311-f57b-3d3e35d7e077"
   },
   "outputs": [],
   "source": []
  },
  {
   "cell_type": "code",
   "execution_count": null,
   "metadata": {
    "colab": {
     "base_uri": "https://localhost:8080/"
    },
    "executionInfo": {
     "elapsed": 83,
     "status": "ok",
     "timestamp": 1670945482935,
     "user": {
      "displayName": "Jonathan Barrios",
      "userId": "16097537147383230085"
     },
     "user_tz": 360
    },
    "id": "ga3Bb-coFhLR",
    "outputId": "ea1d4647-eeb1-45a1-87e8-cd257b3a938e"
   },
   "outputs": [],
   "source": [
    "# this is a method with same behavior\n",
    "# df.head()\n"
   ]
  },
  {
   "cell_type": "code",
   "execution_count": null,
   "metadata": {
    "colab": {
     "base_uri": "https://localhost:8080/"
    },
    "executionInfo": {
     "elapsed": 81,
     "status": "ok",
     "timestamp": 1670945486388,
     "user": {
      "displayName": "Jonathan Barrios",
      "userId": "16097537147383230085"
     },
     "user_tz": 360
    },
    "id": "KyapjlNoHKeE",
    "outputId": "652c6af0-9c26-4480-e3c4-44a96f1a2470"
   },
   "outputs": [],
   "source": [
    "# this is a method with same behavior\n",
    "# df.head()\n"
   ]
  }
 ],
 "metadata": {
  "colab": {
   "authorship_tag": "ABX9TyMnvkNOqeOwqcKoMoCWYosz",
   "provenance": []
  },
  "kernelspec": {
   "display_name": "Python 3 (ipykernel)",
   "language": "python",
   "name": "python3"
  },
  "language_info": {
   "codemirror_mode": {
    "name": "ipython",
    "version": 3
   },
   "file_extension": ".py",
   "mimetype": "text/x-python",
   "name": "python",
   "nbconvert_exporter": "python",
   "pygments_lexer": "ipython3",
   "version": "3.10.8"
  }
 },
 "nbformat": 4,
 "nbformat_minor": 1
}
