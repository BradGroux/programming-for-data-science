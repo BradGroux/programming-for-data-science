{
 "cells": [
  {
   "attachments": {},
   "cell_type": "markdown",
   "metadata": {
    "id": "gOFmiiYPKfk9"
   },
   "source": [
    "## Functions\n",
    "\n",
    "You already how to write and call functions, great. Let's review functions and why we are learning them. For example, we can use fucntions when you need to repeat the same logic over and over. Let's explore this in the cell bellow using an auction simulation."
   ]
  },
  {
   "cell_type": "code",
   "execution_count": 3,
   "metadata": {},
   "outputs": [
    {
     "name": "stdout",
     "output_type": "stream",
     "text": [
      "The total is $122.00\n"
     ]
    }
   ],
   "source": [
    "# price\n",
    "price = int(input(\"Enter the price of the item: \"))\n",
    "\n",
    "# tax, surcharge, and deposit\n",
    "total = price + (price * 0.07) + 5 + 10\n",
    "\n",
    "# print(f\"The total is ${total}\")\n",
    "print(\"The total is ${:.2f}\".format(total))"
   ]
  },
  {
   "cell_type": "code",
   "execution_count": 7,
   "metadata": {},
   "outputs": [
    {
     "name": "stdout",
     "output_type": "stream",
     "text": [
      "The total is $22.49, $17.49, $15.49\n"
     ]
    }
   ],
   "source": [
    "# price\n",
    "price = int(input(\"Enter the price of the item: \"))\n",
    "\n",
    "# customer 1 total\n",
    "total_1 = price + (price * 0.07) + 5 + 10\n",
    "\n",
    "# customer 2 total\n",
    "total_2 = price + (price * 0.07) + 5 + 5\n",
    "\n",
    "# customer 3 total\n",
    "total_3 = price + (price * 0.07) + 5 + 3\n",
    "\n",
    "print(\"The total is ${:.2f}, ${:.2f}, ${:.2f}\".format(total_1, total_2, total_3))"
   ]
  },
  {
   "cell_type": "code",
   "execution_count": 10,
   "metadata": {
    "scrolled": true
   },
   "outputs": [
    {
     "name": "stdout",
     "output_type": "stream",
     "text": [
      "The total is $22.49, $17.49, $15.49\n"
     ]
    }
   ],
   "source": [
    "# price\n",
    "price = int(input(\"Enter the price of the item: \"))\n",
    "\n",
    "# totaler function\n",
    "def totaler(price, charge, deposit):\n",
    "    total = price + (price * charge) + deposit\n",
    "    return total\n",
    "\n",
    "# totals\n",
    "total_1 = price + (price * 0.07) + 5 + 10\n",
    "total_2 = price + (price * 0.07) + 5 + 5\n",
    "total_3 = price + (price * 0.07) + 5 + 3\n",
    "\n",
    "print(\"The total is ${:.2f}, ${:.2f}, ${:.2f}\".format(total_1, total_2, total_3))"
   ]
  }
 ],
 "metadata": {
  "colab": {
   "authorship_tag": "ABX9TyPuFdBAZYYbapk1MKLhYl1h",
   "collapsed_sections": [],
   "name": "6_2_if_statements_FINISH.ipynb",
   "provenance": []
  },
  "kernelspec": {
   "display_name": "Python 3 (ipykernel)",
   "language": "python",
   "name": "python3"
  },
  "language_info": {
   "codemirror_mode": {
    "name": "ipython",
    "version": 3
   },
   "file_extension": ".py",
   "mimetype": "text/x-python",
   "name": "python",
   "nbconvert_exporter": "python",
   "pygments_lexer": "ipython3",
   "version": "3.11.4"
  },
  "vscode": {
   "interpreter": {
    "hash": "31f2aee4e71d21fbe5cf8b01ff0e069b9275f58929596ceb00d14d90e3e16cd6"
   }
  }
 },
 "nbformat": 4,
 "nbformat_minor": 1
}
