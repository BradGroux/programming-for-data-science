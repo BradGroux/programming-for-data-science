{
 "cells": [
  {
   "attachments": {},
   "cell_type": "markdown",
   "metadata": {},
   "source": [
    "# Primitive Data Types\n",
    "\n",
    "Primitive Data Types are pre-defined by the programming language. In contrast, Non-Primitive Data Types are defined by the programmer."
   ]
  },
  {
   "attachments": {},
   "cell_type": "markdown",
   "metadata": {},
   "source": [
    "## The `type()` Function\n",
    "\n",
    "The `type()` function returns the data type of a particular Python object."
   ]
  },
  {
   "cell_type": "code",
   "execution_count": 5,
   "metadata": {},
   "outputs": [
    {
     "data": {
      "text/plain": [
       "int"
      ]
     },
     "execution_count": 5,
     "metadata": {},
     "output_type": "execute_result"
    }
   ],
   "source": [
    "# type() function\n",
    "type(a)"
   ]
  },
  {
   "attachments": {},
   "cell_type": "markdown",
   "metadata": {
    "id": "RXj8h-9AK6eG"
   },
   "source": [
    "### Numbers: integers and floats"
   ]
  },
  {
   "cell_type": "code",
   "execution_count": 4,
   "metadata": {
    "id": "DwU8UxS7JUTd"
   },
   "outputs": [],
   "source": [
    "# int\n",
    "a = 42\n",
    "# float\n",
    "b = 3.14"
   ]
  },
  {
   "attachments": {},
   "cell_type": "markdown",
   "metadata": {
    "id": "oyGmFrbAK-w2"
   },
   "source": [
    "### Strings"
   ]
  },
  {
   "cell_type": "code",
   "execution_count": 11,
   "metadata": {
    "id": "pDBU1G7qJ7m2"
   },
   "outputs": [
    {
     "data": {
      "text/plain": [
       "str"
      ]
     },
     "execution_count": 11,
     "metadata": {},
     "output_type": "execute_result"
    }
   ],
   "source": [
    "# single quotes\n",
    "c = 'Hello World!'\n",
    "\n",
    "# double quotes\n",
    "d = \"Hello There!\"\n",
    "type(d)\n"
   ]
  },
  {
   "attachments": {},
   "cell_type": "markdown",
   "metadata": {
    "id": "Tfe7IeW2BqdX"
   },
   "source": [
    "### Bools\n"
   ]
  },
  {
   "cell_type": "code",
   "execution_count": 6,
   "metadata": {
    "id": "iqd7HUpoBq-x"
   },
   "outputs": [
    {
     "data": {
      "text/plain": [
       "bool"
      ]
     },
     "execution_count": 6,
     "metadata": {},
     "output_type": "execute_result"
    }
   ],
   "source": [
    "# bool\n",
    "e = True\n",
    "\n",
    "# bool\n",
    "f = False\n",
    "\n",
    "# bool = True\n",
    "g = bool(1)\n",
    "\n",
    "# bool = False\n",
    "h= bool(0)\n",
    "\n",
    "# bool type\n",
    "type(h)\n"
   ]
  },
  {
   "attachments": {},
   "cell_type": "markdown",
   "metadata": {
    "id": "76B_ZopNLBOA"
   },
   "source": [
    "# Non-Primitive Data Types\n",
    "\n",
    "### Collections\n",
    "\n",
    "### There are four built-in data types Python uses to store collections of data:\n",
    "\n",
    "**List** - a collection ordered, changeable, and duplicate values\n",
    "\n",
    "**Set** - a collection which is both unordered and unindexed\n",
    "\n",
    "**Dictionary** - a collection of ordered*, changeable, and unique key-value pairs. NOTE: as of Python version 3.7, dictionaries are ordered. In Python 3.6 and earlier, dictionaries are unordered.\n",
    "\n",
    "**Tuple** - a collection of unordered, unchangeable, and unique values"
   ]
  },
  {
   "cell_type": "code",
   "execution_count": 12,
   "metadata": {
    "id": "_6xWe3rvKZto"
   },
   "outputs": [
    {
     "data": {
      "text/plain": [
       "tuple"
      ]
     },
     "execution_count": 12,
     "metadata": {},
     "output_type": "execute_result"
    }
   ],
   "source": [
    "# list\n",
    "i = [\"one\", \"two\", \"three\"]\n",
    "\n",
    "# set\n",
    "j = {\"one\", \"two\", \"three\"}\n",
    "\n",
    "# dictionary\n",
    "k = {1:\"one\", 2:\"two\", 3:\"three\"}\n",
    "\n",
    "# tuple\n",
    "l = (\"one\", \"two\", \"three\")\n",
    "\n",
    "# verify data type\n",
    "type(l)\n"
   ]
  },
  {
   "cell_type": "code",
   "execution_count": null,
   "metadata": {},
   "outputs": [],
   "source": []
  }
 ],
 "metadata": {
  "colab": {
   "authorship_tag": "ABX9TyMol18cwWBoRUz2/r5O8BOH",
   "provenance": []
  },
  "kernelspec": {
   "display_name": "Python 3.9.6 64-bit",
   "language": "python",
   "name": "python3"
  },
  "language_info": {
   "codemirror_mode": {
    "name": "ipython",
    "version": 3
   },
   "file_extension": ".py",
   "mimetype": "text/x-python",
   "name": "python",
   "nbconvert_exporter": "python",
   "pygments_lexer": "ipython3",
   "version": "3.11.4"
  },
  "vscode": {
   "interpreter": {
    "hash": "31f2aee4e71d21fbe5cf8b01ff0e069b9275f58929596ceb00d14d90e3e16cd6"
   }
  }
 },
 "nbformat": 4,
 "nbformat_minor": 1
}
