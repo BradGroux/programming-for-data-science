{
 "cells": [
  {
   "cell_type": "markdown",
   "metadata": {
    "id": "jI0oLmpsocwb"
   },
   "source": [
    "## List Methods\n",
    "\n",
    "A list method is just a function attached to an object. For example, list methods are functions that work on list-objects. Methods can also work with other data types. Python has a set of built-in methods, or functions, that you can use on lists.\n",
    "\n",
    "- append() **Adds an element at the end of the list**\n",
    "- clear() **Removes all the elements from the list**\n",
    "- copy() **Returns a copy of the list**\n",
    "- count() **Returns the number of elements with the specified value**\n",
    "- extend() **Add the elements of a list (or any iterable), to the end of the current list**\n",
    "- index() **Returns the index of the first element with the specified value**\n",
    "- insert() **Adds an element at the specified position**\n",
    "- pop() **Removes the element at the specified position**\n",
    "- reverse() **Reverses the order of the list**\n",
    "- sort() **Sorts the list**\n",
    "\n",
    "> Remember: Lists are mutable."
   ]
  },
  {
   "cell_type": "markdown",
   "metadata": {
    "id": "COwhLsVyd-EV"
   },
   "source": [
    "### reverse()\n",
    "\n",
    "To reverse a list:\n"
   ]
  },
  {
   "cell_type": "code",
   "execution_count": null,
   "metadata": {
    "id": "6P_PXgR0d-EV"
   },
   "outputs": [],
   "source": [
    "# create a list containing 1,2,3,3,3,3 and assign it to a variable: my_list\n",
    "my_list = [1,2,3,3,3,3]\n",
    "\n",
    "# reverse the list\n",
    "my_list.reverse()\n",
    "\n",
    "# print my_list\n",
    "print(my_list)"
   ]
  },
  {
   "cell_type": "markdown",
   "metadata": {
    "id": "nTR4xAxMmcRa"
   },
   "source": [
    "#### Alternate slicing method ☝️"
   ]
  },
  {
   "cell_type": "code",
   "execution_count": null,
   "metadata": {
    "id": "fmTRHvTimXnM"
   },
   "outputs": [],
   "source": [
    "# create a list containing 1,2,3,3,3,3 and assign it to a variable: my_list\n",
    "my_list = [1,2,3,3,3,3]\n",
    "\n",
    "# reverse a list by slicing and assign to variable: reversed\n",
    "reversed = my_list[::-1]\n",
    "\n",
    "# print reversed\n",
    "print(reversed)"
   ]
  },
  {
   "cell_type": "markdown",
   "metadata": {
    "id": "i8NDp_o0okJr"
   },
   "source": [
    "\n",
    "### append()\n",
    "\n",
    "To append lists:\n"
   ]
  },
  {
   "cell_type": "code",
   "execution_count": null,
   "metadata": {
    "id": "Tw7iK8-zodRe"
   },
   "outputs": [],
   "source": [
    "# create a list containing 1,2 3 and assign it to variable: new_list\n",
    "new_list = [1,2,3]\n",
    "\n",
    "# append the list with the value 4\n",
    "new_list.append(4)\n",
    "\n",
    "# print my_numbers\n",
    "print(new_list)"
   ]
  },
  {
   "cell_type": "markdown",
   "metadata": {
    "id": "ev-621xooqKr"
   },
   "source": [
    "### clear()\n",
    "\n",
    "To clear a list:"
   ]
  },
  {
   "cell_type": "code",
   "execution_count": null,
   "metadata": {
    "id": "tqDsv26jonKK"
   },
   "outputs": [],
   "source": [
    "# create a list containing 1,2 3 and assign it to variable: new_list\n",
    "my_list = [1,2,3]\n",
    "\n",
    "# clear my_list\n",
    "my_list.clear()\n",
    "\n",
    "# print my_list\n",
    "print(my_list)"
   ]
  },
  {
   "cell_type": "markdown",
   "metadata": {
    "id": "TXnJr11QpGad"
   },
   "source": [
    "### copy()\n",
    "\n",
    "Make a copy a list:\n"
   ]
  },
  {
   "cell_type": "code",
   "execution_count": null,
   "metadata": {
    "id": "hCEfui5aosAE"
   },
   "outputs": [],
   "source": [
    "# create a list containing 1,2 3 and assign it to variable: new_list\n",
    "my_list = [1,2,3]\n",
    "\n",
    "# create a copy of my_list and assign it to variable: new_list\n",
    "new_list = my_list.copy()\n",
    "\n",
    "# append the my_list with the value 4\n",
    "my_list.append(4)\n",
    "\n",
    "# print my_list\n",
    "print(my_list)\n",
    "\n",
    "# print new_list\n",
    "print(new_list)"
   ]
  },
  {
   "cell_type": "markdown",
   "metadata": {
    "id": "xKK4W_LIpLQZ"
   },
   "source": [
    "### count()\n",
    "\n",
    "To count the number of times an item appears in a list, use the count list method:"
   ]
  },
  {
   "cell_type": "code",
   "execution_count": null,
   "metadata": {
    "colab": {
     "base_uri": "https://localhost:8080/"
    },
    "executionInfo": {
     "elapsed": 216,
     "status": "ok",
     "timestamp": 1641577418387,
     "user": {
      "displayName": "Jonathan Barrios",
      "photoUrl": "https://lh3.googleusercontent.com/a-/AOh14Gj_KFXU5phanoATkzhhR3Yb2zDYFB4nnTYMF3cP=s64",
      "userId": "16097537147383230085"
     },
     "user_tz": 360
    },
    "id": "RNiF94OipJF_",
    "outputId": "ff6358b4-dd93-4b10-eeed-c992d58ec1ba"
   },
   "outputs": [
    {
     "data": {
      "text/plain": [
       "4"
      ]
     },
     "execution_count": 25,
     "metadata": {},
     "output_type": "execute_result"
    }
   ],
   "source": [
    "# create a list containing 1,2 3,3,3,3 and assign it to variable: my_list\n",
    "my_list = [1,2,3,3,3,3]\n",
    "\n",
    "# return the count of elements in my_list\n",
    "my_list.count(3)"
   ]
  },
  {
   "cell_type": "markdown",
   "metadata": {
    "id": "jhkf_v9jpPdZ"
   },
   "source": [
    "### extend()\n",
    "\n",
    "To extend a list:\n"
   ]
  },
  {
   "cell_type": "code",
   "execution_count": null,
   "metadata": {
    "colab": {
     "base_uri": "https://localhost:8080/"
    },
    "executionInfo": {
     "elapsed": 226,
     "status": "ok",
     "timestamp": 1641577688199,
     "user": {
      "displayName": "Jonathan Barrios",
      "photoUrl": "https://lh3.googleusercontent.com/a-/AOh14Gj_KFXU5phanoATkzhhR3Yb2zDYFB4nnTYMF3cP=s64",
      "userId": "16097537147383230085"
     },
     "user_tz": 360
    },
    "id": "GE0fOvWmpNT7",
    "outputId": "bbe1664d-7fc8-40b9-986a-256aad1b8018"
   },
   "outputs": [
    {
     "name": "stdout",
     "output_type": "stream",
     "text": [
      "['my', 'grocery', 'list']\n"
     ]
    }
   ],
   "source": [
    "# create a list containing \"my\", \"grocery\" and assign it to variable: my_list\n",
    "my_list = [\"my\",\"grocery\"]\n",
    "\n",
    "# extend the my_list with the value \"list\"\n",
    "my_list.extend([\"list\"])\n",
    "\n",
    "# print my_list\n",
    "print(my_list)"
   ]
  },
  {
   "cell_type": "markdown",
   "metadata": {
    "id": "kd4U86JQpULW"
   },
   "source": [
    "### index()\n",
    "\n",
    "To find the index of the first match for an item in a list:"
   ]
  },
  {
   "cell_type": "code",
   "execution_count": null,
   "metadata": {
    "colab": {
     "base_uri": "https://localhost:8080/"
    },
    "executionInfo": {
     "elapsed": 190,
     "status": "ok",
     "timestamp": 1631494432195,
     "user": {
      "displayName": "Jonathan Barrios",
      "photoUrl": "https://lh3.googleusercontent.com/a/default-user=s64",
      "userId": "04055538900920699171"
     },
     "user_tz": 300
    },
    "id": "NBOKx7UKpRP1",
    "outputId": "15c79a38-82ce-457b-be0c-7a414d56510e"
   },
   "outputs": [
    {
     "data": {
      "text/plain": [
       "2"
      ]
     },
     "execution_count": 6,
     "metadata": {},
     "output_type": "execute_result"
    }
   ],
   "source": [
    "# create a list containing 1,2 3,3,3,3 and assign it to variable: my_list\n",
    "my_list = [1,2,3,3,3,3]\n",
    "my_list.index(3)"
   ]
  },
  {
   "cell_type": "markdown",
   "metadata": {
    "id": "Re10l3yxpW4g"
   },
   "source": [
    "### insert()\n",
    "\n",
    "To insert items into lists:\n"
   ]
  },
  {
   "cell_type": "code",
   "execution_count": null,
   "metadata": {
    "id": "Nfux0cfRpWQA"
   },
   "outputs": [],
   "source": [
    "# create a list containing \"for\", \"groceries\" and assign it to variable: my_list\n",
    "my_list = [\"for\",\"groceries\"]\n",
    "\n",
    "# insert \"shopping\" at the beginning of my_list\n",
    "my_list.insert(0,\"shopping\")\n",
    "\n",
    "# print my_list\n",
    "print(my_list)"
   ]
  },
  {
   "cell_type": "markdown",
   "metadata": {
    "id": "cD7_Klhgpehy"
   },
   "source": [
    "### pop()\n",
    "\n",
    "To pop off the last item in a list and return it:"
   ]
  },
  {
   "cell_type": "code",
   "execution_count": null,
   "metadata": {
    "colab": {
     "base_uri": "https://localhost:8080/"
    },
    "executionInfo": {
     "elapsed": 233,
     "status": "ok",
     "timestamp": 1641580514978,
     "user": {
      "displayName": "Jonathan Barrios",
      "photoUrl": "https://lh3.googleusercontent.com/a-/AOh14Gj_KFXU5phanoATkzhhR3Yb2zDYFB4nnTYMF3cP=s64",
      "userId": "16097537147383230085"
     },
     "user_tz": 360
    },
    "id": "Axk0RkZBpbHP",
    "outputId": "f73aeddb-f092-4fe1-85ec-b64658f9f97d"
   },
   "outputs": [
    {
     "name": "stdout",
     "output_type": "stream",
     "text": [
      "[1, 2, 3, 4, 5]\n"
     ]
    }
   ],
   "source": [
    "# create a list containing 1,2 3,4,5,6 and assign it to variable: my_list\n",
    "my_list = [1,2,3,4,5,6]\n",
    "\n",
    "# remove 6 from my_list\n",
    "my_list.pop() # default is to pop at the end of the list\n",
    "\n",
    "# print my_list\n",
    "print(my_list)"
   ]
  },
  {
   "cell_type": "markdown",
   "metadata": {
    "id": "kYYIAeWnpjEE"
   },
   "source": [
    "To pop an item by index:"
   ]
  },
  {
   "cell_type": "code",
   "execution_count": null,
   "metadata": {
    "colab": {
     "base_uri": "https://localhost:8080/"
    },
    "executionInfo": {
     "elapsed": 202,
     "status": "ok",
     "timestamp": 1641578040757,
     "user": {
      "displayName": "Jonathan Barrios",
      "photoUrl": "https://lh3.googleusercontent.com/a-/AOh14Gj_KFXU5phanoATkzhhR3Yb2zDYFB4nnTYMF3cP=s64",
      "userId": "16097537147383230085"
     },
     "user_tz": 360
    },
    "id": "i5E9KNoIpgkx",
    "outputId": "62378a41-ddf6-4e05-bab3-326994982fcf"
   },
   "outputs": [
    {
     "name": "stdout",
     "output_type": "stream",
     "text": [
      "[1, 2, 3, 4, 5]\n"
     ]
    }
   ],
   "source": [
    "# create a list containing 1,2 3,4,5,6 and assign it to variable: my_list\n",
    "my_list = [1,2,3,4,5,6]\n",
    "\n",
    "# remove 6 from my_list\n",
    "my_list.pop(-1) # pop by index -1 (last item in list)\n",
    "\n",
    "# print my_list\n",
    "print(my_list)"
   ]
  },
  {
   "cell_type": "markdown",
   "metadata": {
    "id": "LS985xNtINIM"
   },
   "source": [
    "### strip()\n",
    "\n",
    "To strip or remove whitespace at the beginning or end of a string:"
   ]
  },
  {
   "cell_type": "code",
   "execution_count": null,
   "metadata": {
    "colab": {
     "base_uri": "https://localhost:8080/"
    },
    "executionInfo": {
     "elapsed": 221,
     "status": "ok",
     "timestamp": 1641580021316,
     "user": {
      "displayName": "Jonathan Barrios",
      "photoUrl": "https://lh3.googleusercontent.com/a-/AOh14Gj_KFXU5phanoATkzhhR3Yb2zDYFB4nnTYMF3cP=s64",
      "userId": "16097537147383230085"
     },
     "user_tz": 360
    },
    "id": "7mSesRb4ININ",
    "outputId": "3eaa2f1b-effc-4a35-ca07-430c56e34ad9"
   },
   "outputs": [
    {
     "name": "stdout",
     "output_type": "stream",
     "text": [
      "8\n",
      "6\n",
      "Python\n"
     ]
    }
   ],
   "source": [
    "# assign \" Python \" to variable: my_string\n",
    "my_string = \" Python \"\n",
    "\n",
    "# print length of my_string\n",
    "print(len(my_string))\n",
    "\n",
    "# strip whitespace from the string and assign to variable: strip\n",
    "stripped = my_string.strip()\n",
    "\n",
    "# print length of stripped\n",
    "print(len(stripped))\n",
    "\n",
    "# print stripped\n",
    "print(stripped)"
   ]
  },
  {
   "cell_type": "markdown",
   "metadata": {
    "id": "W6_yESkfI_BA"
   },
   "source": [
    "### split()\n",
    "\n",
    "To split a string into a comma separated list object:"
   ]
  },
  {
   "cell_type": "code",
   "execution_count": null,
   "metadata": {
    "id": "BaBxsEElI_BI"
   },
   "outputs": [],
   "source": [
    "# assign \"Python is awesome\" to variable: my_string\n",
    "my_string = \"Python is awesome\"\n",
    "\n",
    "# split my_string (you don't have to print)\n",
    "my_string.split()"
   ]
  },
  {
   "cell_type": "markdown",
   "metadata": {
    "id": "oAv4dSz9pq1N"
   },
   "source": [
    "### sort()\n",
    "\n",
    "To sort lists that contain strings, not numbers:\n"
   ]
  },
  {
   "cell_type": "code",
   "execution_count": null,
   "metadata": {
    "id": "kTrOeUowpo3t"
   },
   "outputs": [],
   "source": [
    "# create a new list containing \"Denver\", \"Z\", \"Pandas\" and assign it to variable: new_list\n",
    "new_list = [\"Denver\", \"Z\", \"Pandas\"]\n",
    "\n",
    "# sort new_list\n",
    "new_list.sort()\n",
    "\n",
    "# print new_list\n",
    "print(new_list)"
   ]
  },
  {
   "cell_type": "markdown",
   "metadata": {
    "id": "lYIgbEu7OLK5"
   },
   "source": [
    "## Mini-challenge part 2: Manipulating raw data from files\n",
    "Continue where we left off by connecting to the file so you can store the raw data in a new variable. Once you store the raw data in a new variable, you can manipulate the data without using the `open()` or `close()` methods."
   ]
  },
  {
   "cell_type": "code",
   "execution_count": null,
   "metadata": {
    "id": "r5wW4a3OOEFd"
   },
   "outputs": [],
   "source": [
    "from google.colab import drive\n",
    "\n",
    "drive.mount('/content/gdrive')"
   ]
  },
  {
   "cell_type": "markdown",
   "metadata": {
    "id": "B3XwjsiIoFNn"
   },
   "source": [
    "## Prepare the file path\n",
    "Assign the path to a variable so you can work with the file."
   ]
  },
  {
   "cell_type": "code",
   "execution_count": null,
   "metadata": {
    "id": "VjrOj2sb3E_1"
   },
   "outputs": [],
   "source": [
    "# use the full file path and assign it to a variable named file_path\n",
    "file_path = '/content/gdrive/MyDrive/SHARED/compliment_generator.txt'"
   ]
  },
  {
   "cell_type": "code",
   "execution_count": null,
   "metadata": {
    "colab": {
     "base_uri": "https://localhost:8080/"
    },
    "executionInfo": {
     "elapsed": 277,
     "status": "ok",
     "timestamp": 1641572053633,
     "user": {
      "displayName": "Jonathan Barrios",
      "photoUrl": "https://lh3.googleusercontent.com/a-/AOh14Gj_KFXU5phanoATkzhhR3Yb2zDYFB4nnTYMF3cP=s64",
      "userId": "16097537147383230085"
     },
     "user_tz": 360
    },
    "id": "zcIUjWdKXlvt",
    "outputId": "2d6b788e-9edc-4cfc-e4f6-30e3697c5775"
   },
   "outputs": [
    {
     "name": "stdout",
     "output_type": "stream",
     "text": [
      "compliment_generator.txt  shakespeare_insults_reference.txt\n"
     ]
    }
   ],
   "source": [
    "!ls '/content/gdrive/MyDrive/SHARED'"
   ]
  },
  {
   "cell_type": "markdown",
   "metadata": {
    "id": "sAj63jXeOjnh"
   },
   "source": [
    "## Manipulating the file\n",
    "Since we will work with the same file again, you'll need to open and close the file object connection once more. After closing the file, you will be using a new variable unrelated to the original file object connection. This simply means that you won't need to open or close the file now that you are done working with the raw data."
   ]
  },
  {
   "cell_type": "code",
   "execution_count": null,
   "metadata": {
    "colab": {
     "base_uri": "https://localhost:8080/"
    },
    "executionInfo": {
     "elapsed": 457,
     "status": "ok",
     "timestamp": 1641572056799,
     "user": {
      "displayName": "Jonathan Barrios",
      "photoUrl": "https://lh3.googleusercontent.com/a-/AOh14Gj_KFXU5phanoATkzhhR3Yb2zDYFB4nnTYMF3cP=s64",
      "userId": "16097537147383230085"
     },
     "user_tz": 360
    },
    "id": "cUyYe0wIDJ6C",
    "outputId": "d6b5dfd0-20cc-4b25-a7ec-061dd95fb327"
   },
   "outputs": [
    {
     "name": "stdout",
     "output_type": "stream",
     "text": [
      "[[\"You're\", 'mighty', 'awesome'], ['Stay', 'most', 'fabulous'], ['Always', 'truly', 'slick']]\n"
     ]
    }
   ],
   "source": [
    "# open connection  \n",
    "txt = open(file_path)\n",
    "\n",
    "# compliments will contain the data from now on\n",
    "compliments = []\n",
    "\n",
    "# split, strip, and append\n",
    "for line in txt:\n",
    "  stripped_line = line.strip()\n",
    "  line_list = stripped_line.split()\n",
    "  compliments.append(line_list)\n",
    "\n",
    "print(compliments)\n",
    "\n",
    "# close connection  \n",
    "txt.close()"
   ]
  },
  {
   "cell_type": "markdown",
   "metadata": {
    "id": "rm9QWkbBQngG"
   },
   "source": [
    "## Extracting sublists\n",
    "We already performed this step in the last video, so this is a review."
   ]
  },
  {
   "cell_type": "code",
   "execution_count": null,
   "metadata": {
    "colab": {
     "base_uri": "https://localhost:8080/"
    },
    "executionInfo": {
     "elapsed": 209,
     "status": "ok",
     "timestamp": 1641572152778,
     "user": {
      "displayName": "Jonathan Barrios",
      "photoUrl": "https://lh3.googleusercontent.com/a-/AOh14Gj_KFXU5phanoATkzhhR3Yb2zDYFB4nnTYMF3cP=s64",
      "userId": "16097537147383230085"
     },
     "user_tz": 360
    },
    "id": "801KwZYoPCEg",
    "outputId": "b72bead7-e94d-4352-f2b0-c2fba6b3b9c2"
   },
   "outputs": [
    {
     "name": "stdout",
     "output_type": "stream",
     "text": [
      "[\"You're\", 'Stay', 'Always']\n",
      "['mighty', 'most', 'truly']\n",
      "['awesome', 'fabulous', 'slick']\n"
     ]
    }
   ],
   "source": [
    "# initialize 3 empty lists and assign them to variables: column_1, column_2, column_3\n",
    "column_1 = []\n",
    "column_2 = []\n",
    "column_3 = []\n",
    "\n",
    "# for each list in the list compliments:\n",
    "for list in compliments:\n",
    "  # append column_1 with the first element in list\n",
    "  column_1.append(list[0])\n",
    "  # append column_2 with the second element in list\n",
    "  column_2.append(list[1])\n",
    "  # append column_3 with the third element in list\n",
    "  column_3.append(list[2])\n",
    "\n",
    "# print column_1\n",
    "print(column_1)\n",
    "\n",
    "# print column_2\n",
    "print(column_2)\n",
    "\n",
    "# print column_3\n",
    "print(column_3)"
   ]
  },
  {
   "cell_type": "code",
   "execution_count": null,
   "metadata": {
    "colab": {
     "base_uri": "https://localhost:8080/",
     "height": 35
    },
    "executionInfo": {
     "elapsed": 211,
     "status": "ok",
     "timestamp": 1641572224937,
     "user": {
      "displayName": "Jonathan Barrios",
      "photoUrl": "https://lh3.googleusercontent.com/a-/AOh14Gj_KFXU5phanoATkzhhR3Yb2zDYFB4nnTYMF3cP=s64",
      "userId": "16097537147383230085"
     },
     "user_tz": 360
    },
    "id": "wgy48wreU80e",
    "outputId": "fdc9013e-b1d8-4089-a24f-5bfe6feff99c"
   },
   "outputs": [
    {
     "data": {
      "application/vnd.google.colaboratory.intrinsic+json": {
       "type": "string"
      },
      "text/plain": [
       "'Always'"
      ]
     },
     "execution_count": 20,
     "metadata": {},
     "output_type": "execute_result"
    }
   ],
   "source": [
    "column_1[2]"
   ]
  },
  {
   "cell_type": "markdown",
   "metadata": {
    "id": "3ynH1YOdYIT8"
   },
   "source": [
    "## Create a compliment generator!\n",
    "Now that you extracted the individual columns, you can build a simple application that compliments users. There are many ways to write this app, and in this example, I will import the random package to generate random numbers so the function can create compliments at random."
   ]
  },
  {
   "cell_type": "code",
   "execution_count": null,
   "metadata": {
    "colab": {
     "base_uri": "https://localhost:8080/",
     "height": 53
    },
    "executionInfo": {
     "elapsed": 4153,
     "status": "ok",
     "timestamp": 1641573292738,
     "user": {
      "displayName": "Jonathan Barrios",
      "photoUrl": "https://lh3.googleusercontent.com/a-/AOh14Gj_KFXU5phanoATkzhhR3Yb2zDYFB4nnTYMF3cP=s64",
      "userId": "16097537147383230085"
     },
     "user_tz": 360
    },
    "id": "kWGjhMxeYxZw",
    "outputId": "3f62b639-cbba-4eb2-ff5a-a273344fa652"
   },
   "outputs": [
    {
     "name": "stdout",
     "output_type": "stream",
     "text": [
      "What is your name? Jonathan\n"
     ]
    },
    {
     "data": {
      "application/vnd.google.colaboratory.intrinsic+json": {
       "type": "string"
      },
      "text/plain": [
       "\"Jonathan! You're mighty awesome!\""
      ]
     },
     "execution_count": 22,
     "metadata": {},
     "output_type": "execute_result"
    }
   ],
   "source": [
    "import random\n",
    "\n",
    "def compliments(name):\n",
    "  rand_index = random.randint(0,2) # only three columns\n",
    "  word_1 = column_1[rand_index]\n",
    "  word_2 = column_2[rand_index]\n",
    "  word_3 = column_3[rand_index]\n",
    "\n",
    "  return \"{}! {} {} {}!\".format(name, word_1, word_2, word_3)\n",
    "\n",
    "name = input(\"What is your name? \")\n",
    "compliments(name)"
   ]
  }
 ],
 "metadata": {
  "colab": {
   "collapsed_sections": [],
   "name": "7_3_list_methods_FINISH.ipynb",
   "provenance": []
  },
  "kernelspec": {
   "display_name": "Python 3 (ipykernel)",
   "language": "python",
   "name": "python3"
  },
  "language_info": {
   "codemirror_mode": {
    "name": "ipython",
    "version": 3
   },
   "file_extension": ".py",
   "mimetype": "text/x-python",
   "name": "python",
   "nbconvert_exporter": "python",
   "pygments_lexer": "ipython3",
   "version": "3.10.8"
  }
 },
 "nbformat": 4,
 "nbformat_minor": 1
}
