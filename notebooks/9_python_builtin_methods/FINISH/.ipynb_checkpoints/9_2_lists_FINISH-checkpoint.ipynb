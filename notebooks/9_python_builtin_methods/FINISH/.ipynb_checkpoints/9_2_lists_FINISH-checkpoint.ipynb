{
 "cells": [
  {
   "cell_type": "markdown",
   "metadata": {
    "id": "B0_M3xtbnC5i"
   },
   "source": [
    "# Lists: ordered, mutable, and allows duplicates\n",
    "Lists are indexed sequences that can hold many kinds of data types. For example:\n",
    "\n",
    "* int\n",
    "* floats\n",
    "* strings\n",
    "* bools\n",
    "* functions\n",
    "* objects\n",
    "\n",
    "That being said, it's best to keep lists homogeneous. For example, imagine a spreadsheet with different columns. Each column should contain the same data type for name, age, email, city, state, and so forth. \n",
    "\n",
    "> Much of a data analyst's time is spent cleaning data to unlock the insights hidden in the raw data. In essence, turning raw data into information.\n"
   ]
  },
  {
   "cell_type": "markdown",
   "metadata": {
    "id": "aaQY23UEAtVn"
   },
   "source": [
    "### Creating lists"
   ]
  },
  {
   "cell_type": "code",
   "execution_count": null,
   "metadata": {
    "id": "2vMGqpcxkmMV"
   },
   "outputs": [],
   "source": [
    "# create a list containing \"Python\", 2025, True and asssign it to a variable: my_list\n",
    "my_list = [\"Python\", 2025, True]\n",
    " \n",
    "# print my_list\n",
    "print(my_list)"
   ]
  },
  {
   "cell_type": "markdown",
   "metadata": {
    "id": "MuWlhVweAxSW"
   },
   "source": [
    "### Indexing lists"
   ]
  },
  {
   "cell_type": "code",
   "execution_count": null,
   "metadata": {
    "id": "kpGAGuJ6m1GR"
   },
   "outputs": [],
   "source": [
    "# create a list contaning \"Jonathan\", \"Keith\", \"Ben\" and asssign it to a variable: team\n",
    "team = [\"Jonathan\", \"Keith\", \"Ben\"]\n",
    "\n",
    "# print the fisrt element of team\n",
    "print(team[0])"
   ]
  },
  {
   "cell_type": "markdown",
   "metadata": {
    "id": "Z4ePVZ5pnbU1"
   },
   "source": [
    "### Printing lists"
   ]
  },
  {
   "cell_type": "code",
   "execution_count": null,
   "metadata": {
    "id": "fyH3aK6cm3tm"
   },
   "outputs": [],
   "source": [
    "# create a list contaning \"Jonathan\", \"Matt\", \"Dan\" and asssign it to a variable: team\n",
    "team = [\"Jonathan\", \"Matt\", \"Dan\"]\n",
    "\n",
    "# print team\n",
    "print(team)"
   ]
  },
  {
   "cell_type": "markdown",
   "metadata": {
    "id": "rwijqoHVnesA"
   },
   "source": [
    "### Slicing lists\n"
   ]
  },
  {
   "cell_type": "code",
   "execution_count": null,
   "metadata": {
    "id": "GYtZA4Mbm4u7"
   },
   "outputs": [],
   "source": [
    "# slice \"Dakota\" to retrun: \"ko\"\n",
    "\"Dakota\"[2:4]"
   ]
  },
  {
   "cell_type": "code",
   "execution_count": null,
   "metadata": {
    "id": "XQZMDRKxm9X2"
   },
   "outputs": [],
   "source": [
    "# create a list contaning values 1,2,3,4 and assign it to a variable: my_list\n",
    "my_list = [1,2,3,4]\n",
    "\n",
    "# slice the list from the second item to the third item. Output: [2,3]\n",
    "my_list[1:3]"
   ]
  },
  {
   "cell_type": "code",
   "execution_count": null,
   "metadata": {
    "id": "omQsNl84j3u7"
   },
   "outputs": [],
   "source": [
    "# create a list contaning values 1,2,3,4 and assign it to a variable: my_list\n",
    "my_list = [1,2,3,4]\n",
    "\n",
    "# return last index: 4\n",
    "print(my_list[-1])\n",
    "\n",
    "# return the penultimate index: 3\n",
    "print(my_list[-2])"
   ]
  },
  {
   "cell_type": "markdown",
   "metadata": {
    "id": "oxborM-AVmhZ"
   },
   "source": [
    "## Sublists\n",
    "\n",
    "You can use two pairs of square brackets to access lists inside of lists, a sort of listception if you will. Sometimes, lists inside of lists are referred to as sublists. For example, a list inside of another list."
   ]
  },
  {
   "cell_type": "code",
   "execution_count": null,
   "metadata": {
    "id": "4lqxMa8WnApJ"
   },
   "outputs": [],
   "source": [
    "# create a list contaning \"Jonathan\", [1,2,3], \"Data\", \"Analysis\" and assign it to a variable named: sub_list\n",
    "sub_list = [\"Jonathan\", [1,2,3], \"Data\", \"Analysis\"]\n",
    " \n",
    "# the first bracket argument is the item\n",
    "# the second bracket argument is the index\n",
    "sub_list[1][0]"
   ]
  },
  {
   "cell_type": "markdown",
   "metadata": {
    "id": "lYIgbEu7OLK5"
   },
   "source": [
    "## Mini-challenge part 1: Working with files\n"
   ]
  },
  {
   "cell_type": "code",
   "execution_count": null,
   "metadata": {
    "colab": {
     "base_uri": "https://localhost:8080/"
    },
    "executionInfo": {
     "elapsed": 1317,
     "status": "ok",
     "timestamp": 1641581100186,
     "user": {
      "displayName": "Jonathan Barrios",
      "photoUrl": "https://lh3.googleusercontent.com/a-/AOh14Gj_KFXU5phanoATkzhhR3Yb2zDYFB4nnTYMF3cP=s64",
      "userId": "16097537147383230085"
     },
     "user_tz": 360
    },
    "id": "r5wW4a3OOEFd",
    "outputId": "c2693ca9-e0a0-4553-8fc1-c76203f9c130"
   },
   "outputs": [
    {
     "name": "stdout",
     "output_type": "stream",
     "text": [
      "Drive already mounted at /content/gdrive; to attempt to forcibly remount, call drive.mount(\"/content/gdrive\", force_remount=True).\n"
     ]
    }
   ],
   "source": [
    "from google.colab import drive\n",
    "\n",
    "drive.mount('/content/gdrive')"
   ]
  },
  {
   "cell_type": "code",
   "execution_count": null,
   "metadata": {
    "colab": {
     "base_uri": "https://localhost:8080/"
    },
    "executionInfo": {
     "elapsed": 211,
     "status": "ok",
     "timestamp": 1641581102696,
     "user": {
      "displayName": "Jonathan Barrios",
      "photoUrl": "https://lh3.googleusercontent.com/a-/AOh14Gj_KFXU5phanoATkzhhR3Yb2zDYFB4nnTYMF3cP=s64",
      "userId": "16097537147383230085"
     },
     "user_tz": 360
    },
    "id": "NtQkT2GpO14q",
    "outputId": "d2d54ed4-b79a-42d8-a302-649ece3c4719"
   },
   "outputs": [
    {
     "name": "stdout",
     "output_type": "stream",
     "text": [
      "gdrive\tsample_data\n"
     ]
    }
   ],
   "source": [
    "# use ls to list files in a directory, note the same folders found in the files pane\n",
    "!ls '/content/'"
   ]
  },
  {
   "cell_type": "code",
   "execution_count": null,
   "metadata": {
    "colab": {
     "base_uri": "https://localhost:8080/"
    },
    "executionInfo": {
     "elapsed": 273,
     "status": "ok",
     "timestamp": 1641581103782,
     "user": {
      "displayName": "Jonathan Barrios",
      "photoUrl": "https://lh3.googleusercontent.com/a-/AOh14Gj_KFXU5phanoATkzhhR3Yb2zDYFB4nnTYMF3cP=s64",
      "userId": "16097537147383230085"
     },
     "user_tz": 360
    },
    "id": "Mv7ByUGgmvqR",
    "outputId": "4a70114e-9803-48de-de49-256230b56032"
   },
   "outputs": [
    {
     "name": "stdout",
     "output_type": "stream",
     "text": [
      "compliment_generator.txt  shakespeare_insults_reference.txt\n"
     ]
    }
   ],
   "source": [
    "# copy the file path from Google Drive and verify the file exists\n",
    "!ls '/content/gdrive/MyDrive/SHARED/'"
   ]
  },
  {
   "cell_type": "markdown",
   "metadata": {
    "id": "B3XwjsiIoFNn"
   },
   "source": [
    "## Prepare the file path\n",
    "Once you have the correct file path, you can assign it to a variable so you can work with the file."
   ]
  },
  {
   "cell_type": "code",
   "execution_count": null,
   "metadata": {
    "id": "VjrOj2sb3E_1"
   },
   "outputs": [],
   "source": [
    "# use the full file path and assign it to a variable named file_path\n",
    "file_path = '/content/gdrive/MyDrive/SHARED/compliment_generator.txt'"
   ]
  },
  {
   "cell_type": "markdown",
   "metadata": {
    "id": "FNMhwacK7J8d"
   },
   "source": [
    "## Open the raw data file\n",
    "Before you can read or write data to a file, you need to open the file using the built-in Python `open()` function. Invoking the `open()` function creates a file object connection so you can use it inside your code. Remember to `close()` this file object connection when you are finished working with the file. This best practice will be explained in the cells below.\n",
    "\n",
    "Learn more about the [Python file object](https://docs.python.org/3/glossary.html#term-file-object).\n",
    "\n",
    "The `open()` method takes the following second argument:\n",
    "- to read the file, pass in r\n",
    "- to read and write the file, pass in r+\n",
    "- to overwrite the file, pass in w\n",
    "- to append to the file, pass in a"
   ]
  },
  {
   "cell_type": "code",
   "execution_count": null,
   "metadata": {
    "colab": {
     "base_uri": "https://localhost:8080/"
    },
    "executionInfo": {
     "elapsed": 213,
     "status": "ok",
     "timestamp": 1641581106830,
     "user": {
      "displayName": "Jonathan Barrios",
      "photoUrl": "https://lh3.googleusercontent.com/a-/AOh14Gj_KFXU5phanoATkzhhR3Yb2zDYFB4nnTYMF3cP=s64",
      "userId": "16097537147383230085"
     },
     "user_tz": 360
    },
    "id": "_2Ur0mY2JnEr",
    "outputId": "093793eb-f2c6-4c79-d480-d8120b9aad66"
   },
   "outputs": [
    {
     "name": "stdout",
     "output_type": "stream",
     "text": [
      "You're      mighty       awesome\n",
      "\n",
      "Stay        most         fabulous\n",
      "\n",
      "Always      truly        slick\n"
     ]
    }
   ],
   "source": [
    "# open file and assign it to a variable named txt (right click file)\n",
    "txt = open(file_path, \"r\") # \"r\" is used when you are going to read a file\n",
    "\n",
    "# print each line\n",
    "for line in txt:\n",
    "  print(line)\n",
    "  \n",
    "# close connection  \n",
    "txt.close()"
   ]
  },
  {
   "cell_type": "markdown",
   "metadata": {
    "id": "SXqiyKT87U_E"
   },
   "source": [
    "## Close the file (fridge ❄️)"
   ]
  },
  {
   "cell_type": "markdown",
   "metadata": {
    "id": "eHgecezKqTrG"
   },
   "source": [
    "It's a best practice to use the `close()` method explicitly when you are done reading or writing to a particular file object. 🐼\n",
    "\n",
    "> Open file object, perform actions, then close file object. Open database connection, perform actions, then close the database connection."
   ]
  },
  {
   "cell_type": "markdown",
   "metadata": {
    "id": "sAj63jXeOjnh"
   },
   "source": [
    "## Manipulating the file\n",
    "Since we will work with the same file again, you will need to open and close the file object connection once more. After closing the file, you will be using a new variable unrelated to the original file object connection. This simply means that you won't need to open or close the file now that you are done working with the raw data."
   ]
  },
  {
   "cell_type": "code",
   "execution_count": null,
   "metadata": {
    "colab": {
     "base_uri": "https://localhost:8080/"
    },
    "executionInfo": {
     "elapsed": 195,
     "status": "ok",
     "timestamp": 1641581109852,
     "user": {
      "displayName": "Jonathan Barrios",
      "photoUrl": "https://lh3.googleusercontent.com/a-/AOh14Gj_KFXU5phanoATkzhhR3Yb2zDYFB4nnTYMF3cP=s64",
      "userId": "16097537147383230085"
     },
     "user_tz": 360
    },
    "id": "cUyYe0wIDJ6C",
    "outputId": "e2808fac-7471-457f-a5fb-d13421d07cd4"
   },
   "outputs": [
    {
     "name": "stdout",
     "output_type": "stream",
     "text": [
      "[[\"You're\", 'mighty', 'awesome'], ['Stay', 'most', 'fabulous'], ['Always', 'truly', 'slick']]\n"
     ]
    }
   ],
   "source": [
    "# open connection with file_path as an argument and assign to variable: txt   \n",
    "txt = open(file_path)\n",
    "\n",
    "# initialize an empty list and assign it to variable: compliments\n",
    "compliments = []\n",
    "\n",
    "# split, strip, and append\n",
    "for line in txt:\n",
    "  stripped_line = line.strip()\n",
    "  line_list = stripped_line.split()\n",
    "  compliments.append(line_list)\n",
    "\n",
    "print(compliments)\n",
    "\n",
    "# close connection  \n",
    "txt.close()"
   ]
  },
  {
   "cell_type": "markdown",
   "metadata": {
    "id": "rm9QWkbBQngG"
   },
   "source": [
    "## Extracting sublists"
   ]
  },
  {
   "cell_type": "code",
   "execution_count": null,
   "metadata": {
    "colab": {
     "base_uri": "https://localhost:8080/"
    },
    "executionInfo": {
     "elapsed": 199,
     "status": "ok",
     "timestamp": 1641581115269,
     "user": {
      "displayName": "Jonathan Barrios",
      "photoUrl": "https://lh3.googleusercontent.com/a-/AOh14Gj_KFXU5phanoATkzhhR3Yb2zDYFB4nnTYMF3cP=s64",
      "userId": "16097537147383230085"
     },
     "user_tz": 360
    },
    "id": "801KwZYoPCEg",
    "outputId": "4af23e8b-4d84-477d-ecc2-f56586d2b6d3"
   },
   "outputs": [
    {
     "name": "stdout",
     "output_type": "stream",
     "text": [
      "[\"You're\", 'Stay', 'Always']\n",
      "['mighty', 'most', 'truly']\n",
      "['awesome', 'fabulous', 'slick']\n"
     ]
    }
   ],
   "source": [
    "# initialize 3 empty lists and assign them to variables: column_1, column_2, column_3\n",
    "column_1 = []\n",
    "column_2 = []\n",
    "column_3 = []\n",
    "\n",
    "# for each list in the list compliments:\n",
    "for list in compliments:\n",
    "  # append column_1 with the first element in list\n",
    "  column_1.append(list[0])\n",
    "  # append column_2 with the second element in list\n",
    "  column_2.append(list[1])\n",
    "  # append column_3 with the third element in list\n",
    "  column_3.append(list[2])\n",
    "\n",
    "# print column_1\n",
    "print(column_1)\n",
    "\n",
    "# print column_2\n",
    "print(column_2)\n",
    "\n",
    "# print column_3\n",
    "print(column_3)"
   ]
  },
  {
   "cell_type": "markdown",
   "metadata": {
    "id": "P4EcD9O3jCsz"
   },
   "source": [
    "At the end of this skill, you'll get a chance to expand on the compliments list to create a Shakespearean insult generator! See you there!"
   ]
  }
 ],
 "metadata": {
  "colab": {
   "collapsed_sections": [],
   "name": "7_2_lists_FINISH.ipynb",
   "provenance": []
  },
  "kernelspec": {
   "display_name": "Python 3 (ipykernel)",
   "language": "python",
   "name": "python3"
  },
  "language_info": {
   "codemirror_mode": {
    "name": "ipython",
    "version": 3
   },
   "file_extension": ".py",
   "mimetype": "text/x-python",
   "name": "python",
   "nbconvert_exporter": "python",
   "pygments_lexer": "ipython3",
   "version": "3.10.8"
  }
 },
 "nbformat": 4,
 "nbformat_minor": 1
}
