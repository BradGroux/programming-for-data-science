{
 "cells": [
  {
   "cell_type": "code",
   "execution_count": null,
   "metadata": {
    "id": "tJR2ZMzrmgRV"
   },
   "outputs": [],
   "source": []
  },
  {
   "cell_type": "markdown",
   "metadata": {
    "id": "5g81XIfsxlj7"
   },
   "source": [
    "# Numpy array methods and functions 03"
   ]
  },
  {
   "cell_type": "code",
   "execution_count": null,
   "metadata": {
    "colab": {
     "base_uri": "https://localhost:8080/"
    },
    "id": "TypMyGkmxifZ",
    "outputId": "8f6ed1b3-e420-487b-8ae5-809fd34f5439"
   },
   "outputs": [
    {
     "name": "stdout",
     "output_type": "stream",
     "text": [
      "1\n",
      "4\n",
      "2.5\n",
      "2.5\n",
      "1.118033988749895\n",
      "10\n",
      "24\n",
      "1.0\n",
      "2.5\n"
     ]
    }
   ],
   "source": [
    "# You can use Numpy's aggregate functions to perform operations across the entire array.\n",
    "\n",
    "g = np.array([[1, 2], [3, 4]])\n",
    "\n",
    "print(np.min(g))  # find the minimum value of the array\n",
    "print(np.max(g))  # find the maximum value of the array\n",
    "print(np.mean(g))  # calculate the mean of the array\n",
    "print(np.median(g))  # calculate the median of the array\n",
    "print(np.std(g))  # calculate the standard deviation of the array\n",
    "print(np.sum(g))  # calculate the sum of the array\n",
    "print(np.prod(g))  # calculate the product of the array\n",
    "\n",
    "# Statistical functions\n",
    "\n",
    "# You can use Numpy's statistical functions to calculate statistical measures of an array.\n",
    "\n",
    "h = np.array([1, 2, 3, 4, 5])\n",
    "\n",
    "print(np.corrcoef(h))  # calculate the correlation coefficient of the array\n",
    "print(np.cov(h))  # calculate the covariance of the array\n",
    "\n",
    "# Linear algebra functions\n",
    "\n",
    "# You can use Numpy's linear algebra functions to perform operations such as matrix multiplication.\n",
    "\n",
    "i = np.array([[1, 2], [3, 4]])"
   ]
  }
 ],
 "metadata": {
  "colab": {
   "provenance": []
  },
  "kernelspec": {
   "display_name": "Python 3 (ipykernel)",
   "language": "python",
   "name": "python3"
  },
  "language_info": {
   "codemirror_mode": {
    "name": "ipython",
    "version": 3
   },
   "file_extension": ".py",
   "mimetype": "text/x-python",
   "name": "python",
   "nbconvert_exporter": "python",
   "pygments_lexer": "ipython3",
   "version": "3.10.8"
  }
 },
 "nbformat": 4,
 "nbformat_minor": 1
}
