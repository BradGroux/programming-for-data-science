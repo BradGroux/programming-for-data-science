{
  "nbformat": 4,
  "nbformat_minor": 0,
  "metadata": {
    "colab": {
      "provenance": []
    },
    "kernelspec": {
      "name": "python3",
      "display_name": "Python 3"
    },
    "language_info": {
      "name": "python"
    }
  },
  "cells": [
    {
      "cell_type": "markdown",
      "source": [
        "# Basic Operations with Numpy Arrays"
      ],
      "metadata": {
        "id": "oZNI0prtxnhO"
      }
    },
    {
      "cell_type": "code",
      "source": [
        "# You can perform mathematical operations on Numpy arrays element-wise.\n",
        "\n",
        "a = np.array([1, 2, 3])\n",
        "b = np.array([4, 5, 6])\n",
        "\n",
        "c = a + b  # add the arrays element-wise\n",
        "print(c)\n",
        "\n",
        "d = a - b  # subtract the arrays element-wise\n",
        "print(d)\n",
        "\n",
        "e = a * b  # multiply the arrays element-wise\n",
        "print(e)\n",
        "\n",
        "f = a / b  # divide the arrays element-wise\n",
        "print(f)\n"
      ],
      "metadata": {
        "colab": {
          "base_uri": "https://localhost:8080/"
        },
        "id": "w23uLodqxhDu",
        "outputId": "c3cf8306-5931-4762-bd75-8d64e315e348"
      },
      "execution_count": null,
      "outputs": [
        {
          "output_type": "stream",
          "name": "stdout",
          "text": [
            "[5 7 9]\n",
            "[-3 -3 -3]\n",
            "[ 4 10 18]\n",
            "[0.25 0.4  0.5 ]\n"
          ]
        }
      ]
    }
  ]
}