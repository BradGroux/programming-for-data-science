{
  "nbformat": 4,
  "nbformat_minor": 0,
  "metadata": {
    "colab": {
      "provenance": []
    },
    "kernelspec": {
      "name": "python3",
      "display_name": "Python 3"
    },
    "language_info": {
      "name": "python"
    }
  },
  "cells": [
    {
      "cell_type": "markdown",
      "source": [
        "# Creating Numpy Arrays\n",
        "\n"
      ],
      "metadata": {
        "id": "yo3QHpqIxqGU"
      }
    },
    {
      "cell_type": "code",
      "source": [
        "# There are several ways to create Numpy arrays:\n",
        "\n",
        "b = np.array([[1, 2], [3, 4]])  # create a 2-dimensional array from a list of lists\n",
        "\n",
        "c = np.zeros(8) # create an array of zeros\n",
        "\n",
        "d = np.ones(8) # create an array of ones"
      ],
      "metadata": {
        "colab": {
          "base_uri": "https://localhost:8080/"
        },
        "id": "tZrihMlDxOlW",
        "outputId": "48a79b6f-95e1-46a9-d907-fffb86c1afc6"
      },
      "execution_count": null,
      "outputs": [
        {
          "output_type": "stream",
          "name": "stdout",
          "text": [
            "[1 2 3]\n"
          ]
        }
      ]
    },
    {
      "cell_type": "code",
      "source": [
        "# typecasting arrays\n",
        "e = np.ones(5, dtype=int)\n",
        "e"
      ],
      "metadata": {
        "id": "FxdaRidtNr2j"
      },
      "execution_count": null,
      "outputs": []
    },
    {
      "cell_type": "code",
      "source": [
        "# evenly spaced values\n",
        "f = np.linspace(0,50, 100)\n",
        "f"
      ],
      "metadata": {
        "id": "RfzQYXayN4Io"
      },
      "execution_count": null,
      "outputs": []
    },
    {
      "cell_type": "code",
      "source": [
        "# 2 dimensional array with rand values\n",
        "g = np.random.rand(4, 4)\n",
        "g"
      ],
      "metadata": {
        "id": "awftQQpKONP1"
      },
      "execution_count": null,
      "outputs": []
    },
    {
      "cell_type": "code",
      "source": [
        "h = np.array([1, 2, 3])  # create an array from a list\n",
        "\n",
        "print(h)\n",
        "print(h)  # print the array\n",
        "print(h[0])  # access the first element of the array\n",
        "print(h[0:2])  # slice the first two elements of the array"
      ],
      "metadata": {
        "colab": {
          "base_uri": "https://localhost:8080/"
        },
        "id": "1Dwc6GUZxZb1",
        "outputId": "48657e16-eb5e-4980-d51b-bdda390a2d85"
      },
      "execution_count": null,
      "outputs": [
        {
          "output_type": "stream",
          "name": "stdout",
          "text": [
            "[1 2 3 4 5 6]\n",
            "1\n",
            "[1 2]\n"
          ]
        }
      ]
    },
    {
      "cell_type": "code",
      "source": [],
      "metadata": {
        "id": "DEWFknkjNNMI"
      },
      "execution_count": null,
      "outputs": []
    }
  ]
}