{
 "cells": [
  {
   "cell_type": "markdown",
   "id": "a9e734e2",
   "metadata": {},
   "source": [
    "# Work with Arrays and Numpy for Data Science"
   ]
  },
  {
   "cell_type": "code",
   "execution_count": 1,
   "id": "210a81c3",
   "metadata": {},
   "outputs": [],
   "source": [
    "import numpy as np\n",
    "\n",
    "# Numpy is a powerful library for scientific computing in Python. \n",
    "# It allows you to work with arrays of data and perform mathematical \n",
    "# operations on them efficiently. You can use Numpy for tasks such as \n",
    "# analyzing data, performing numerical simulations, and creating machine \n",
    "# learning models.\n"
   ]
  },
  {
   "cell_type": "code",
   "execution_count": null,
   "id": "96182abf",
   "metadata": {},
   "outputs": [],
   "source": []
  }
 ],
 "metadata": {
  "kernelspec": {
   "display_name": "Python 3 (ipykernel)",
   "language": "python",
   "name": "python3"
  },
  "language_info": {
   "codemirror_mode": {
    "name": "ipython",
    "version": 3
   },
   "file_extension": ".py",
   "mimetype": "text/x-python",
   "name": "python",
   "nbconvert_exporter": "python",
   "pygments_lexer": "ipython3",
   "version": "3.10.8"
  }
 },
 "nbformat": 4,
 "nbformat_minor": 5
}
