{
 "cells": [
  {
   "cell_type": "markdown",
   "metadata": {},
   "source": [
    "# Primitive Data Types\n",
    "\n",
    "Primitive Data Types are pre-defined by the programming language while Non-Primitive Data Types are not defined by the programming language but are created by the programmer."
   ]
  },
  {
   "cell_type": "markdown",
   "metadata": {},
   "source": [
    "## The `type()` Function\n",
    "\n",
    "The `type()` function returns the data type of a particular Python object."
   ]
  },
  {
   "cell_type": "code",
   "execution_count": null,
   "metadata": {},
   "outputs": [],
   "source": [
    "# type() function"
   ]
  },
  {
   "cell_type": "markdown",
   "metadata": {
    "id": "RXj8h-9AK6eG"
   },
   "source": [
    "### Numbers: integers and floats"
   ]
  },
  {
   "cell_type": "code",
   "execution_count": null,
   "metadata": {
    "id": "DwU8UxS7JUTd"
   },
   "outputs": [],
   "source": [
    "# int\n",
    "\n",
    "# float"
   ]
  },
  {
   "cell_type": "markdown",
   "metadata": {
    "id": "oyGmFrbAK-w2"
   },
   "source": [
    "### Strings"
   ]
  },
  {
   "cell_type": "code",
   "execution_count": null,
   "metadata": {
    "id": "pDBU1G7qJ7m2"
   },
   "outputs": [],
   "source": [
    "# single quotes\n",
    "\n",
    "# double quotes"
   ]
  },
  {
   "cell_type": "markdown",
   "metadata": {
    "id": "Tfe7IeW2BqdX"
   },
   "source": [
    "### Bools\n"
   ]
  },
  {
   "cell_type": "code",
   "execution_count": null,
   "metadata": {
    "id": "iqd7HUpoBq-x"
   },
   "outputs": [],
   "source": [
    "# bool\n",
    "\n",
    "# bool\n",
    "\n",
    "# bool = True\n",
    "\n",
    "# bool = False\n",
    "\n",
    "# bool type"
   ]
  },
  {
   "cell_type": "markdown",
   "metadata": {
    "id": "76B_ZopNLBOA"
   },
   "source": [
    "# Non-Primitive Data Types\n",
    "\n",
    "### Collections\n",
    "\n",
    "### There are four built-in data types Python uses to store collections of data:\n",
    "\n",
    "**List** - a collection ordered, changeable, and duplicate values\n",
    "\n",
    "**Set** - a collection which is both unordered and unindexed\n",
    "\n",
    "**Dictionary** - a collection of ordered*, changeable, and unique key-value pairs.As of Python version 3.7, dictionaries are ordered. In Python 3.6 and earlier, dictionaries are unordered.\n",
    "\n",
    "**Tuple** - a collection of unordered, unchangeable, and unique values"
   ]
  },
  {
   "cell_type": "code",
   "execution_count": null,
   "metadata": {
    "id": "_6xWe3rvKZto"
   },
   "outputs": [],
   "source": [
    "# list\n",
    "\n",
    "# set\n",
    "\n",
    "# dictionary\n",
    "\n",
    "# tuple\n",
    "\n",
    "# very data type"
   ]
  }
 ],
 "metadata": {
  "colab": {
   "authorship_tag": "ABX9TyMol18cwWBoRUz2/r5O8BOH",
   "provenance": []
  },
  "kernelspec": {
   "display_name": "Python 3 (ipykernel)",
   "language": "python",
   "name": "python3"
  },
  "language_info": {
   "codemirror_mode": {
    "name": "ipython",
    "version": 3
   },
   "file_extension": ".py",
   "mimetype": "text/x-python",
   "name": "python",
   "nbconvert_exporter": "python",
   "pygments_lexer": "ipython3",
   "version": "3.10.8"
  }
 },
 "nbformat": 4,
 "nbformat_minor": 1
}
