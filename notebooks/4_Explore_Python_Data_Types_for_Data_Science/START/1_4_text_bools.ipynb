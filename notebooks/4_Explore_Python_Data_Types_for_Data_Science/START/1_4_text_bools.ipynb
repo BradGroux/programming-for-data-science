{
 "cells": [
  {
   "cell_type": "markdown",
   "metadata": {
    "id": "oyGmFrbAK-w2"
   },
   "source": [
    "## Strings"
   ]
  },
  {
   "cell_type": "code",
   "execution_count": 7,
   "metadata": {
    "id": "pDBU1G7qJ7m2"
   },
   "outputs": [
    {
     "data": {
      "text/plain": [
       "str"
      ]
     },
     "execution_count": 7,
     "metadata": {},
     "output_type": "execute_result"
    }
   ],
   "source": [
    "# Strings (single or double quotes)\n",
    "\"this is a string\"\n",
    "\n",
    "# String assigned to a variable\n",
    "store = \"Bob's Music\"\n",
    "# the type() function\n",
    "type(store)"
   ]
  },
  {
   "cell_type": "markdown",
   "metadata": {
    "id": "C-a9nutoSjP6"
   },
   "source": [
    "## Bools"
   ]
  },
  {
   "cell_type": "code",
   "execution_count": 18,
   "metadata": {
    "id": "G-of0_8iSmND"
   },
   "outputs": [],
   "source": [
    "# Bool\n",
    "True\n",
    "# Bool\n",
    "False\n",
    "# Bool same as True\n",
    "a = bool(1)\n",
    "# Bool same as False\n",
    "b = bool(0)"
   ]
  },
  {
   "cell_type": "code",
   "execution_count": 20,
   "metadata": {},
   "outputs": [
    {
     "data": {
      "text/plain": [
       "False"
      ]
     },
     "execution_count": 20,
     "metadata": {},
     "output_type": "execute_result"
    }
   ],
   "source": [
    "# the type() function\n",
    "b"
   ]
  },
  {
   "cell_type": "code",
   "execution_count": null,
   "metadata": {},
   "outputs": [],
   "source": []
  }
 ],
 "metadata": {
  "colab": {
   "authorship_tag": "ABX9TyM2ILIxaCDtsRgel9NkH4le",
   "provenance": []
  },
  "kernelspec": {
   "display_name": "Python 3 (ipykernel)",
   "language": "python",
   "name": "python3"
  },
  "language_info": {
   "codemirror_mode": {
    "name": "ipython",
    "version": 3
   },
   "file_extension": ".py",
   "mimetype": "text/x-python",
   "name": "python",
   "nbconvert_exporter": "python",
   "pygments_lexer": "ipython3",
   "version": "3.10.8"
  }
 },
 "nbformat": 4,
 "nbformat_minor": 1
}
