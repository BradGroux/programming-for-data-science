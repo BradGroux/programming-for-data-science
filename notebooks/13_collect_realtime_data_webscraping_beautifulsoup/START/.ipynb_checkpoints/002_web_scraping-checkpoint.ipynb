{
 "cells": [
  {
   "cell_type": "markdown",
   "metadata": {
    "id": "Plrz59v7s276"
   },
   "source": [
    "## Install libraries"
   ]
  },
  {
   "cell_type": "code",
   "execution_count": 1,
   "metadata": {
    "id": "6g_7ccSGlIqd"
   },
   "outputs": [
    {
     "name": "stdout",
     "output_type": "stream",
     "text": [
      "Collecting package metadata (current_repodata.json): done\n",
      "Solving environment: done\n",
      "\n",
      "\n",
      "==> WARNING: A newer version of conda exists. <==\n",
      "  current version: 22.9.0\n",
      "  latest version: 22.11.1\n",
      "\n",
      "Please update conda by running\n",
      "\n",
      "    $ conda update -n base -c defaults conda\n",
      "\n",
      "\n",
      "\n",
      "## Package Plan ##\n",
      "\n",
      "  environment location: /Users/barrios/opt/anaconda3/envs/prog_for_ds\n",
      "\n",
      "  added / updated specs:\n",
      "    - beautifulsoup4\n",
      "\n",
      "\n",
      "The following packages will be downloaded:\n",
      "\n",
      "    package                    |            build\n",
      "    ---------------------------|-----------------\n",
      "    certifi-2022.12.7          |  py310hecd8cb5_0         151 KB\n",
      "    ------------------------------------------------------------\n",
      "                                           Total:         151 KB\n",
      "\n",
      "The following packages will be UPDATED:\n",
      "\n",
      "  certifi                         2022.9.24-py310hecd8cb5_0 --> 2022.12.7-py310hecd8cb5_0 None\n",
      "\n",
      "\n",
      "\n",
      "Downloading and Extracting Packages\n",
      "certifi-2022.12.7    | 151 KB    | ##################################### | 100% \n",
      "Preparing transaction: done\n",
      "Verifying transaction: done\n",
      "Executing transaction: done\n",
      "Retrieving notices: ...working... done\n",
      "\n",
      "Note: you may need to restart the kernel to use updated packages.\n",
      "Collecting package metadata (current_repodata.json): done\n",
      "Solving environment: done\n",
      "\n",
      "\n",
      "==> WARNING: A newer version of conda exists. <==\n",
      "  current version: 22.9.0\n",
      "  latest version: 22.11.1\n",
      "\n",
      "Please update conda by running\n",
      "\n",
      "    $ conda update -n base -c defaults conda\n",
      "\n",
      "\n",
      "\n",
      "# All requested packages already installed.\n",
      "\n",
      "Retrieving notices: ...working... done\n",
      "\n",
      "Note: you may need to restart the kernel to use updated packages.\n",
      "Collecting package metadata (current_repodata.json): done\n",
      "Solving environment: done\n",
      "\n",
      "\n",
      "==> WARNING: A newer version of conda exists. <==\n",
      "  current version: 22.9.0\n",
      "  latest version: 22.11.1\n",
      "\n",
      "Please update conda by running\n",
      "\n",
      "    $ conda update -n base -c defaults conda\n",
      "\n",
      "\n",
      "\n",
      "# All requested packages already installed.\n",
      "\n",
      "Retrieving notices: ...working... done\n",
      "\n",
      "Note: you may need to restart the kernel to use updated packages.\n"
     ]
    }
   ],
   "source": [
    "%conda install beautifulsoup4 #\n",
    "%conda install lxml #lxml parser is light-weight and fast\n",
    "%conda install requests"
   ]
  },
  {
   "cell_type": "markdown",
   "metadata": {
    "id": "isAw5RSSqvT_"
   },
   "source": [
    "Create your version of https://webscraper.io/test-sites\n",
    "Use guitars? or something cool like Personal Electric Vehicles (PEV)."
   ]
  },
  {
   "cell_type": "markdown",
   "metadata": {
    "id": "bmI7YxmpspWm"
   },
   "source": [
    "## Import libraries"
   ]
  },
  {
   "cell_type": "code",
   "execution_count": null,
   "metadata": {
    "id": "kLmoeqwCrKnk"
   },
   "outputs": [],
   "source": [
    "import requests\n",
    "from bs4 import BeautifulSoup"
   ]
  },
  {
   "cell_type": "markdown",
   "metadata": {
    "id": "dno32tors9X4"
   },
   "source": [
    "## Get HTML into Python"
   ]
  },
  {
   "cell_type": "code",
   "execution_count": null,
   "metadata": {
    "id": "ZxE3qPBftIDx"
   },
   "outputs": [],
   "source": [
    "# assign HTML url to varible: url\n",
    "url =\"https://webscraper.io/test-sites/e-commerce/allinone/computers\"\n",
    "\n",
    "# get the HTML from url and assign to variable: page\n",
    "\n",
    "# The HTTP 200 OK success status response code = request has succeeded."
   ]
  },
  {
   "cell_type": "code",
   "execution_count": null,
   "metadata": {
    "id": "kmGOi-cNtF8_"
   },
   "outputs": [],
   "source": [
    "# grab the HTML as text(string)\n",
    "# parses it into Python and assign to variable: soup\n",
    "\n",
    "# retruns the HTML "
   ]
  },
  {
   "cell_type": "markdown",
   "metadata": {
    "id": "XMyyc8gNtQ_6"
   },
   "source": [
    "## Verify page and soup return something"
   ]
  },
  {
   "cell_type": "code",
   "execution_count": null,
   "metadata": {
    "id": "SqzljdU9uBAy"
   },
   "outputs": [],
   "source": [
    "# use the .text attribute (more later) to view the page contents\n"
   ]
  },
  {
   "cell_type": "code",
   "execution_count": null,
   "metadata": {
    "id": "rOul_TJVuCNq"
   },
   "outputs": [],
   "source": [
    "# to view the parsed HTML 🤔\n"
   ]
  },
  {
   "cell_type": "code",
   "execution_count": null,
   "metadata": {
    "id": "HBtkis3U0lDL"
   },
   "outputs": [],
   "source": [
    "# header\n"
   ]
  },
  {
   "cell_type": "code",
   "execution_count": null,
   "metadata": {
    "id": "dfE8YLAK18cV"
   },
   "outputs": [],
   "source": [
    "# body\n"
   ]
  },
  {
   "cell_type": "markdown",
   "metadata": {
    "id": "j-YknYh22fME"
   },
   "source": [
    "# Returning strings inside of tags\n",
    "Strings inside of tags are also known as navigable strings. You can naviagte into different tags to return data. For example, you want to return the first `<p>` tag inside of the header as a string."
   ]
  },
  {
   "cell_type": "code",
   "execution_count": null,
   "metadata": {
    "id": "ZKZTfcI12L5F"
   },
   "outputs": [],
   "source": [
    "# body's first h1\n"
   ]
  },
  {
   "cell_type": "markdown",
   "metadata": {
    "id": "qj8qngA54EDj"
   },
   "source": [
    "## Working with attributes\n",
    "\n",
    "Remember the `.text` attribute? Using `.text` returns information about the object it is attached to. For example, `.text` returned the text in the `soup` object. \n",
    "\n",
    "So, what is an attribute, anyway? An HTML attribute manipulates the behavior or output of an HTML element. Understanding and using attributes is useful to extract the title attribute from a link: <a href=\"#\" title=\"some title\">link<a>.\n",
    "\n",
    "If you want to return a list of attributes for an object:"
   ]
  },
  {
   "cell_type": "code",
   "execution_count": null,
   "metadata": {
    "id": "Wb3t8Dnp57RD"
   },
   "outputs": [],
   "source": []
  },
  {
   "cell_type": "code",
   "execution_count": null,
   "metadata": {
    "id": "kJSYqnOZ6RCb"
   },
   "outputs": [],
   "source": [
    "# return existing attribute\n"
   ]
  },
  {
   "cell_type": "code",
   "execution_count": null,
   "metadata": {
    "id": "Y1ilbazt6no_"
   },
   "outputs": [],
   "source": [
    "# add new attribute\n"
   ]
  },
  {
   "cell_type": "markdown",
   "metadata": {
    "id": "TenpU7hF8pYL"
   },
   "source": [
    "# Python comments vs HTML comments\n",
    "\n",
    "```Python\n",
    "# This is a Python comment\n",
    "```\n",
    "\n",
    "```HTML\n",
    "<!-- this is an HTML comment -->\n",
    "```"
   ]
  }
 ],
 "metadata": {
  "colab": {
   "provenance": [
    {
     "file_id": "1F40HsTaWPVtx735iIsd68BAURBRhGUCM",
     "timestamp": 1672268197247
    }
   ]
  },
  "kernelspec": {
   "display_name": "Python 3 (ipykernel)",
   "language": "python",
   "name": "python3"
  },
  "language_info": {
   "codemirror_mode": {
    "name": "ipython",
    "version": 3
   },
   "file_extension": ".py",
   "mimetype": "text/x-python",
   "name": "python",
   "nbconvert_exporter": "python",
   "pygments_lexer": "ipython3",
   "version": "3.10.8"
  },
  "vscode": {
   "interpreter": {
    "hash": "31f2aee4e71d21fbe5cf8b01ff0e069b9275f58929596ceb00d14d90e3e16cd6"
   }
  }
 },
 "nbformat": 4,
 "nbformat_minor": 1
}
