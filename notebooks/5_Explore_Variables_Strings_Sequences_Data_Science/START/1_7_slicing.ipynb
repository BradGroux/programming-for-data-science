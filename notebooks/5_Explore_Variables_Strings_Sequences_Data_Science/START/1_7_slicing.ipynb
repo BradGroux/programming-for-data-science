{
 "cells": [
  {
   "cell_type": "markdown",
   "metadata": {
    "id": "eb_4FfFuwwJY"
   },
   "source": [
    "# Slicing strings\n",
    "\n",
    "You can also slice strings, or return a rnage of characters, using the bracket notation we used wehn indexing strings.\n",
    "\n"
   ]
  },
  {
   "cell_type": "code",
   "execution_count": null,
   "metadata": {
    "id": "1Cm1_hdtwskU"
   },
   "outputs": [],
   "source": [
    "# indexing a string's first element\n"
   ]
  },
  {
   "cell_type": "code",
   "execution_count": null,
   "metadata": {},
   "outputs": [],
   "source": [
    "# slicing a string's first' element\n"
   ]
  },
  {
   "cell_type": "code",
   "execution_count": null,
   "metadata": {
    "id": "GiNZRkAP2qmR"
   },
   "outputs": [],
   "source": [
    "# slicing a string from the begining to the second element\n"
   ]
  },
  {
   "cell_type": "code",
   "execution_count": null,
   "metadata": {
    "id": "ai0BAU2Y2sW0"
   },
   "outputs": [],
   "source": [
    "# slicing a string from the begining to the end\n"
   ]
  },
  {
   "cell_type": "markdown",
   "metadata": {
    "id": "09r5plws2THb"
   },
   "source": [
    "# Slicing variables\n",
    "You can also slice varibles if they are assigned to strings. There is no difference."
   ]
  },
  {
   "cell_type": "code",
   "execution_count": null,
   "metadata": {
    "id": "Lrnt9aqY2TYr"
   },
   "outputs": [],
   "source": [
    "# store \"Jonathan\" inside variable: name\n",
    "\n",
    "\n",
    "# access the first element of: name\n"
   ]
  },
  {
   "cell_type": "markdown",
   "metadata": {
    "id": "IHcH2dbPiw7I"
   },
   "source": [
    "## Negative slicing visualization:\n",
    "J | O | N | A | T | H | A | N \n",
    "--- | --- | --- | --- | --- | --- | --- | --- \n",
    "-8 | -7 | -6 | -5 | -4 | -3 | -2 | -1 "
   ]
  },
  {
   "cell_type": "code",
   "execution_count": null,
   "metadata": {
    "id": "9OHKCn03hOzd"
   },
   "outputs": [],
   "source": [
    "# sclice using negative indices\n"
   ]
  },
  {
   "cell_type": "code",
   "execution_count": null,
   "metadata": {
    "id": "Zm2Psg3Jiomg"
   },
   "outputs": [],
   "source": [
    "# sclice using negative indices\n"
   ]
  }
 ],
 "metadata": {
  "colab": {
   "authorship_tag": "ABX9TyPdSyyn8m133687aXMZOA8b",
   "provenance": []
  },
  "kernelspec": {
   "display_name": "Python 3 (ipykernel)",
   "language": "python",
   "name": "python3"
  },
  "language_info": {
   "codemirror_mode": {
    "name": "ipython",
    "version": 3
   },
   "file_extension": ".py",
   "mimetype": "text/x-python",
   "name": "python",
   "nbconvert_exporter": "python",
   "pygments_lexer": "ipython3",
   "version": "3.10.8"
  }
 },
 "nbformat": 4,
 "nbformat_minor": 1
}
