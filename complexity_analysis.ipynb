{
 "cells": [
  {
   "cell_type": "code",
   "execution_count": 2,
   "metadata": {},
   "outputs": [
    {
     "data": {
      "text/plain": [
       "5"
      ]
     },
     "execution_count": 2,
     "metadata": {},
     "output_type": "execute_result"
    }
   ],
   "source": [
    "# for an array of size n\n",
    "# search, insearch and deletion are O(n) operations\n",
    "# access is O(1) operation\n",
    "\n",
    "my_list = [1,2,3,4,5]\n",
    "\n",
    "def find_max(my_list):\n",
    "    max_value = my_list[0]\n",
    "    for value in my_list:\n",
    "        if value > max_value:\n",
    "            max_value = value\n",
    "    return max_value\n",
    "find_max(my_list)"
   ]
  },
  {
   "cell_type": "code",
   "execution_count": 8,
   "metadata": {},
   "outputs": [
    {
     "data": {
      "text/plain": [
       "True"
      ]
     },
     "execution_count": 8,
     "metadata": {},
     "output_type": "execute_result"
    }
   ],
   "source": [
    "# for an array of size n\n",
    "# checking for duplicates is O(n^2) operation\n",
    "\n",
    "my_list = [1,2,3,4,4,5]\n",
    "\n",
    "def check_duplicates(my_list):\n",
    "    for i in range(len(my_list)):\n",
    "        for j in range(len(my_list)):\n",
    "            if my_list[i] == my_list[j] and i != j:\n",
    "                return True\n",
    "    return False\n",
    "check_duplicates(my_list)\n",
    "\n",
    "# an inner loop is executed n times for every execution of the outer loop\n",
    "# don't nest loops unless you absolutely have to"
   ]
  }
 ],
 "metadata": {
  "kernelspec": {
   "display_name": "Python 3",
   "language": "python",
   "name": "python3"
  },
  "language_info": {
   "codemirror_mode": {
    "name": "ipython",
    "version": 3
   },
   "file_extension": ".py",
   "mimetype": "text/x-python",
   "name": "python",
   "nbconvert_exporter": "python",
   "pygments_lexer": "ipython3",
   "version": "3.11.4"
  },
  "orig_nbformat": 4
 },
 "nbformat": 4,
 "nbformat_minor": 2
}
